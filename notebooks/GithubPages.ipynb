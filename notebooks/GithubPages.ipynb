{
  "metadata": {
    "language_info": {
      "codemirror_mode": {
        "name": "python",
        "version": 3
      },
      "file_extension": ".py",
      "mimetype": "text/x-python",
      "name": "python",
      "nbconvert_exporter": "python",
      "pygments_lexer": "ipython3",
      "version": "3.8"
    },
    "kernelspec": {
      "name": "python",
      "display_name": "Python (Pyodide)",
      "language": "python"
    }
  },
  "nbformat_minor": 4,
  "nbformat": 4,
  "cells": [
    {
      "cell_type": "markdown",
      "source": "# Github Pages Notebook",
      "metadata": {}
    },
    {
      "cell_type": "markdown",
      "source": "## HTTP\nA protocol called HTTP (Hypertext Transfer Protocol) is used to send hypermedia documents, including HTML pages, over the internet. It serves as the Web's main basis for data transfer.\n\nA client (such a web browser) submits a request to a server using the request-response protocol known as HTTP, and the server responds by sending the client a response. The HTTP message format, which consists of a start line, headers, and a message body, is commonly used to send the request and response messages.\n\nA client (like a web browser) sends a request to a server (like a web server), and the server responds by sending the client a response. This is known as the client-server model in HTTP. HTTP communications are sent across a network connection utilizing the TCP/IP protocol to connect the client and server.\n\nAll current web browsers and servers accept HTTP as the de facto standard for communication on the internet. It is a crucial component of the web's and the internet's infrastructure.",
      "metadata": {}
    },
    {
      "cell_type": "markdown",
      "source": "## What is a Server?\nA computer or other device that offers services to other computers or devices is known as a server. Websites, databases, and other resources that can be accessed through a network, like the internet, are frequently hosted on servers.",
      "metadata": {}
    },
    {
      "cell_type": "code",
      "source": "### HTTP Request",
      "metadata": {},
      "execution_count": null,
      "outputs": []
    },
    {
      "cell_type": "code",
      "source": "POST /contact_form.php HTTP/1.1\nHost: developer.mozilla.org\nContent-Length: 64\nContent-Type: application/x-www-form-urlencoded\nname=Joe%20User&request=Send%20me%20one%20of%20your%20catalogue",
      "metadata": {},
      "execution_count": null,
      "outputs": []
    },
    {
      "cell_type": "markdown",
      "source": "### HTTP Response",
      "metadata": {}
    },
    {
      "cell_type": "code",
      "source": "HTTP/1.1 200 OK\n\nContent-Type: text/html; charset=utf-8\n\nContent-Length: 55743\n\nConnection: keep-alive\n\nCache-Control: s-maxage=300, public, max-age=0\n\nContent-Language: en-US\n\nDate: Thu, 6 Dec 2018 17:37:18 GMT\n\nETag: \"2e77ad1dc6ab0b53a2996dfd4653c1c3\"\n\nServer: meinheld/0.6.1\n\nStrict-Transport-Security: max-age=63072000\n\nX-Content-Type-Options: nosniff\n\nX-Frame-Options: DENY\n\nX-XSS-Protection: 1; mode=block\n\nVary: Accept-Encoding,Cookie\n\nAge: 7\n\n\n</span>\n<html lang=\"en\">\n<head>\n  <meta charset=\"utf-8\">\n  <title>A simple webpagetitle>\nhead>\n<body>\n  <h1>Simple HTML webpageh1>\n  <p>Hello, world!p>\n<body>\n<html>",
      "metadata": {
        "trusted": true
      },
      "execution_count": null,
      "outputs": []
    },
    {
      "cell_type": "markdown",
      "source": "## Static vs Dynamic \nStatic refers to content that doesn't change in the context of HTTP. This could apply to files that are served to the client exactly as they are stored on the server, such as HTML pages, pictures, and other kinds of files. Dynamic content is that which is produced instantly in response to a client request. This could include information that is tailored for a specific user or HTML pages that are created by integrating data from a database with a template.\n\nBecause it doesn't need to be processed on the server, static content is often served more quickly than dynamic content. Dynamic content, however, is more adaptable and may be tailored to the client's demands or the application's present condition.",
      "metadata": {}
    },
    {
      "cell_type": "markdown",
      "source": "![Alt text](https://chandulanethmal.github.io/assets/images/static_dynamic/stat-dynamic_1.jpg \"StaticVsDynamic\")",
      "metadata": {}
    },
    {
      "cell_type": "markdown",
      "source": "## Setup\n* To use GitHub Pages you create a repository and enable Pages in the repository settings.\n\n* You can specify a repository branch to be your website.\n\n* Or you can use GitHub Actions, more below.\n\n* Most commonly, a static site generator like Jekyll or Hugo is used.\n\n* It is a bit unusual to use a branch for something totally different.",
      "metadata": {}
    },
    {
      "cell_type": "markdown",
      "source": "![Alt text](https://librarycarpentry.org/lc-git/fig/github-repo-settings-pages.png \"GithubPages\")",
      "metadata": {}
    },
    {
      "cell_type": "markdown",
      "source": "## Hugo\n![Alt text](https://d33wubrfki0l68.cloudfront.net/c38c7334cc3f23585738e40334284fddcaf03d5e/2e17c/images/hugo-logo-wide.svg \"Hugo\")\n\nHugo is a Go-based static site generator. It enables users to construct static webpages by writing text in Markdown or other formats and organizing it in a directory structure. It is quick and simple to use. Hugo then creates a fully static website using templates that can be hosted by any web server.\n\nDue to the lack of server-side processing needed for each request, employing a static site generator like Hugo can make websites faster and more scalable than dynamic websites. Because of this, it is appropriate for websites with a lot of visitors or pages. Since the entire website is made up of static files that can be delivered from any web server, it is also simple to deploy and host.\n\nhttps://gohugo.io/",
      "metadata": {}
    },
    {
      "cell_type": "markdown",
      "source": "## Github Actions\nYou can use GitHub Actions, a tool that lets you define custom rules for action execution in response to specific events, to automate your workflow. You may build \"workflows\" with GitHub Actions, which are collections of actions that can be started or stopped by many occasions, such submitting code to a repository, opening or closing an issue, or producing a new release.\n\nIt is simple to automate a variety of operations with GitHub Actions, including developing and deploying code, running tests, and publishing packages. You can utilize the pre-built actions that GitHub offers, or you can write your own custom actions in any language that can run on a virtual machine running Linux, Windows, or macOS.\n\nEach and every GitHub user has access to GitHub Actions, which is frequently combined with other GitHub capabilities like GitHub Pages and GitHub Packages to form a comprehensive continuous integration and delivery (CI/CD) pipeline.\n\nhttps://gohugo.io/hosting-and-deployment/hosting-on-github/#build-hugo-with-github-action",
      "metadata": {}
    },
    {
      "cell_type": "code",
      "source": "yml\nname: github pages\n\non:\n  push:\n    branches:\n      - main  # Set a branch to deploy\n  pull_request:\n\njobs:\n  deploy:\n    runs-on: ubuntu-20.04\n    steps:\n      - uses: actions/checkout@v2\n        with:\n          submodules: true  # Fetch Hugo themes (true OR recursive)\n          fetch-depth: 0    # Fetch all history for .GitInfo and .Lastmod\n\n      - name: Setup Hugo\n        uses: peaceiris/actions-hugo@v2\n        with:\n          hugo-version: 'latest'\n          # extended: true\n\n      - name: Build\n        run: hugo --minify\n\n      - name: Deploy\n        uses: peaceiris/actions-gh-pages@v3\n        if: github.ref == 'refs/heads/main'\n        with:\n          github_token: ${{ secrets.GITHUB_TOKEN }}\n          publish_dir: ./public",
      "metadata": {},
      "execution_count": null,
      "outputs": []
    }
  ]
}