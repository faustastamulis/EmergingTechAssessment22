{
  "metadata": {
    "language_info": {
      "codemirror_mode": {
        "name": "python",
        "version": 3
      },
      "file_extension": ".py",
      "mimetype": "text/x-python",
      "name": "python",
      "nbconvert_exporter": "python",
      "pygments_lexer": "ipython3",
      "version": "3.8"
    },
    "kernelspec": {
      "name": "python",
      "display_name": "Python (Pyodide)",
      "language": "python"
    }
  },
  "nbformat_minor": 4,
  "nbformat": 4,
  "cells": [
    {
      "cell_type": "markdown",
      "source": "# JupyterLite Notebook\nUsing the well-known open-source Jupyter platform, users may create and share documents with live code, equations, visualizations, and explanatory text. It is frequently employed in scientific computing, machine learning, and data analysis. Visit the Jupyter website at https://jupyter.org if you're interested in learning more.",
      "metadata": {}
    },
    {
      "cell_type": "markdown",
      "source": "## Website\nhttps://jupyterlite.readthedocs.io/en/latest/",
      "metadata": {}
    },
    {
      "cell_type": "markdown",
      "source": "## Demos\nhttps://jupyterlite.readthedocs.io/en/latest/_static/lab/ \n\nhttps://jupyterlite.readthedocs.io/en/latest/_static/retro/tree/\n\nhttps://jupyterlite.readthedocs.io/en/latest/_static/repl/index.html?toolbar=1",
      "metadata": {}
    },
    {
      "cell_type": "markdown",
      "source": "## Github Demo Repo\nhttps://github.com/jupyterlite/demo\n\nA GitHub repository that you can use as a template to create your own JupyterLite site.",
      "metadata": {}
    },
    {
      "cell_type": "markdown",
      "source": "## Resources\n\nhttps://docs.github.com/en/actions/using-workflows/workflow-syntax-for-github-actions\n\nhttps://learnpython.com/blog/python-requirements-file/\n\nhttps://web.dev/storage-for-the-web/\n\nhttps://developer.mozilla.org/en-US/docs/Web/API/Web_Storage_API\n\nhttps://developer.mozilla.org/en-US/docs/Web/API/IndexedDB_API",
      "metadata": {}
    }
  ]
}